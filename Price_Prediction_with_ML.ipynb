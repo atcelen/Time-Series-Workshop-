{
 "cells": [
  {
   "cell_type": "code",
   "execution_count": 1,
   "id": "0a76ee07",
   "metadata": {},
   "outputs": [],
   "source": [
    "import pandas as pd\n",
    "import numpy as np\n",
    "import matplotlib.pyplot as plt\n",
    "\n",
    "from sklearn.linear_model import LinearRegression\n",
    "from sklearn import linear_model\n",
    "from sklearn.svm import SVR\n",
    "from sklearn.gaussian_process import GaussianProcessRegressor\n",
    "from sklearn.neural_network import MLPRegressor\n",
    "from sklearn.ensemble import RandomForestRegressor\n",
    "from sklearn.gaussian_process.kernels import RBF, Matern\n",
    "from sklearn.metrics import mean_absolute_percentage_error, r2_score, mean_squared_error\n",
    "from sklearn.preprocessing import StandardScaler\n",
    "from sklearn.model_selection import GridSearchCV\n",
    "from sklearn.linear_model import ElasticNet\n",
    "from xgboost import XGBRegressor\n",
    "from skopt import gp_minimize\n",
    "from sklearn.model_selection import cross_val_score"
   ]
  },
  {
   "cell_type": "code",
   "execution_count": 2,
   "id": "ebdb7df2",
   "metadata": {},
   "outputs": [
    {
     "data": {
      "text/html": [
       "<div>\n",
       "<style scoped>\n",
       "    .dataframe tbody tr th:only-of-type {\n",
       "        vertical-align: middle;\n",
       "    }\n",
       "\n",
       "    .dataframe tbody tr th {\n",
       "        vertical-align: top;\n",
       "    }\n",
       "\n",
       "    .dataframe thead th {\n",
       "        text-align: right;\n",
       "    }\n",
       "</style>\n",
       "<table border=\"1\" class=\"dataframe\">\n",
       "  <thead>\n",
       "    <tr style=\"text-align: right;\">\n",
       "      <th></th>\n",
       "      <th>symbol</th>\n",
       "      <th>open</th>\n",
       "      <th>high</th>\n",
       "      <th>low</th>\n",
       "      <th>close</th>\n",
       "      <th>Volume ETH</th>\n",
       "      <th>Volume USDT</th>\n",
       "      <th>tradecount</th>\n",
       "    </tr>\n",
       "    <tr>\n",
       "      <th>date</th>\n",
       "      <th></th>\n",
       "      <th></th>\n",
       "      <th></th>\n",
       "      <th></th>\n",
       "      <th></th>\n",
       "      <th></th>\n",
       "      <th></th>\n",
       "      <th></th>\n",
       "    </tr>\n",
       "  </thead>\n",
       "  <tbody>\n",
       "    <tr>\n",
       "      <th>11/01/2021 00:00</th>\n",
       "      <td>ETH/USDT</td>\n",
       "      <td>4287.48</td>\n",
       "      <td>4317.88</td>\n",
       "      <td>4276.79</td>\n",
       "      <td>4316.13</td>\n",
       "      <td>6993.6869</td>\n",
       "      <td>30080479.70</td>\n",
       "      <td>15326.0</td>\n",
       "    </tr>\n",
       "    <tr>\n",
       "      <th>10/31/2021 23:00</th>\n",
       "      <td>ETH/USDT</td>\n",
       "      <td>4293.01</td>\n",
       "      <td>4302.19</td>\n",
       "      <td>4270.37</td>\n",
       "      <td>4287.21</td>\n",
       "      <td>8875.9914</td>\n",
       "      <td>38058457.82</td>\n",
       "      <td>26672.0</td>\n",
       "    </tr>\n",
       "    <tr>\n",
       "      <th>10/31/2021 22:00</th>\n",
       "      <td>ETH/USDT</td>\n",
       "      <td>4306.45</td>\n",
       "      <td>4317.92</td>\n",
       "      <td>4290.75</td>\n",
       "      <td>4293.00</td>\n",
       "      <td>10898.0574</td>\n",
       "      <td>46884132.12</td>\n",
       "      <td>28572.0</td>\n",
       "    </tr>\n",
       "    <tr>\n",
       "      <th>10/31/2021 21:00</th>\n",
       "      <td>ETH/USDT</td>\n",
       "      <td>4265.11</td>\n",
       "      <td>4329.46</td>\n",
       "      <td>4262.05</td>\n",
       "      <td>4306.45</td>\n",
       "      <td>15770.7324</td>\n",
       "      <td>67716875.00</td>\n",
       "      <td>55889.0</td>\n",
       "    </tr>\n",
       "    <tr>\n",
       "      <th>10/31/2021 20:00</th>\n",
       "      <td>ETH/USDT</td>\n",
       "      <td>4247.81</td>\n",
       "      <td>4271.17</td>\n",
       "      <td>4230.00</td>\n",
       "      <td>4265.11</td>\n",
       "      <td>9617.2065</td>\n",
       "      <td>40952475.61</td>\n",
       "      <td>27900.0</td>\n",
       "    </tr>\n",
       "  </tbody>\n",
       "</table>\n",
       "</div>"
      ],
      "text/plain": [
       "                    symbol     open     high      low    close  Volume ETH  \\\n",
       "date                                                                         \n",
       "11/01/2021 00:00  ETH/USDT  4287.48  4317.88  4276.79  4316.13   6993.6869   \n",
       "10/31/2021 23:00  ETH/USDT  4293.01  4302.19  4270.37  4287.21   8875.9914   \n",
       "10/31/2021 22:00  ETH/USDT  4306.45  4317.92  4290.75  4293.00  10898.0574   \n",
       "10/31/2021 21:00  ETH/USDT  4265.11  4329.46  4262.05  4306.45  15770.7324   \n",
       "10/31/2021 20:00  ETH/USDT  4247.81  4271.17  4230.00  4265.11   9617.2065   \n",
       "\n",
       "                  Volume USDT  tradecount  \n",
       "date                                       \n",
       "11/01/2021 00:00  30080479.70     15326.0  \n",
       "10/31/2021 23:00  38058457.82     26672.0  \n",
       "10/31/2021 22:00  46884132.12     28572.0  \n",
       "10/31/2021 21:00  67716875.00     55889.0  \n",
       "10/31/2021 20:00  40952475.61     27900.0  "
      ]
     },
     "execution_count": 2,
     "metadata": {},
     "output_type": "execute_result"
    }
   ],
   "source": [
    "data = pd.read_csv(\"Binance_ETHUSDT_1h.csv\", index_col=\"date\", parse_dates=True).drop(columns=[\"unix\"])\n",
    "data.head()"
   ]
  },
  {
   "cell_type": "code",
   "execution_count": 3,
   "id": "59831335",
   "metadata": {},
   "outputs": [],
   "source": [
    "close_diff = data[\"close\"].pct_change(1)\n",
    "close_diff.dropna(inplace=True)"
   ]
  },
  {
   "cell_type": "code",
   "execution_count": 4,
   "id": "02afb02f",
   "metadata": {},
   "outputs": [
    {
     "data": {
      "text/plain": [
       "date\n",
       "12/23/2020 7:00     0.005108\n",
       "12/23/2020 6:00    -0.001786\n",
       "12/23/2020 5:00     0.000586\n",
       "12/23/2020 4:00     0.003950\n",
       "12/23/2020 3:00     0.009585\n",
       "12/23/2020 2:00    -0.000273\n",
       "12/23/2020 1:00     0.006272\n",
       "12/23/2020 0:00     0.016644\n",
       "12/22/2020 23:00   -0.001976\n",
       "12/22/2020 22:00   -0.010449\n",
       "Name: close, dtype: float64"
      ]
     },
     "execution_count": 4,
     "metadata": {},
     "output_type": "execute_result"
    }
   ],
   "source": [
    "# Using the last values only\n",
    "close_diff = close_diff.iloc[0:7500]\n",
    "close_diff.tail(10)"
   ]
  },
  {
   "cell_type": "code",
   "execution_count": 5,
   "id": "02deecad",
   "metadata": {},
   "outputs": [],
   "source": [
    "# Create the training set\n",
    "X = []\n",
    "Y = []\n",
    "length = 48\n",
    "for i in range(0,len(close_diff)-length):\n",
    "    X.append(close_diff.iloc[i:i+length])\n",
    "    Y.append(close_diff.iloc[i+length])\n",
    "X = np.array(X)\n",
    "Y = np.array(Y)  "
   ]
  },
  {
   "cell_type": "code",
   "execution_count": 6,
   "id": "c8e17e71",
   "metadata": {},
   "outputs": [],
   "source": [
    "N_test = 48\n",
    "X_train, Y_train = X[:-N_test], Y[:-N_test]\n",
    "X_test, Y_test = X[-N_test:], Y[-N_test:]"
   ]
  },
  {
   "cell_type": "markdown",
   "id": "033941f4",
   "metadata": {},
   "source": [
    "## Naive Forecast"
   ]
  },
  {
   "cell_type": "code",
   "execution_count": 7,
   "id": "a7d3dbf0",
   "metadata": {},
   "outputs": [
    {
     "data": {
      "text/plain": [
       "0.012411239452986077"
      ]
     },
     "execution_count": 7,
     "metadata": {},
     "output_type": "execute_result"
    }
   ],
   "source": [
    "mean_squared_error(Y_train, np.zeros(len(Y_train)), squared=False)"
   ]
  },
  {
   "cell_type": "code",
   "execution_count": 8,
   "id": "04fe49e9",
   "metadata": {},
   "outputs": [
    {
     "data": {
      "text/plain": [
       "0.011692437776164804"
      ]
     },
     "execution_count": 8,
     "metadata": {},
     "output_type": "execute_result"
    }
   ],
   "source": [
    "mean_squared_error(Y_test, np.zeros(len(Y_test)), squared=False)"
   ]
  },
  {
   "cell_type": "markdown",
   "id": "f9def66c",
   "metadata": {},
   "source": [
    "## Gaussian Regressor"
   ]
  },
  {
   "cell_type": "code",
   "execution_count": 53,
   "id": "46473ea1",
   "metadata": {},
   "outputs": [],
   "source": [
    "def objective(params):\n",
    "    gpr = GaussianProcessRegressor(kernel = Matern(length_scale= params[0], nu=params[1] ,length_scale_bounds=\"fixed\"))\n",
    "    return -np.mean(cross_val_score(gpr, X_train, Y_train, cv=5, n_jobs=-1, scoring='neg_root_mean_squared_error'))"
   ]
  },
  {
   "cell_type": "code",
   "execution_count": 54,
   "id": "2d2383e6",
   "metadata": {},
   "outputs": [
    {
     "name": "stdout",
     "output_type": "stream",
     "text": [
      "Iteration No: 1 started. Evaluating function at random point.\n",
      "Iteration No: 1 ended. Evaluation done at random point.\n",
      "Time taken: 46.2606\n",
      "Function value obtained: 0.0123\n",
      "Current minimum: 0.0123\n",
      "Iteration No: 2 started. Evaluating function at random point.\n",
      "Iteration No: 2 ended. Evaluation done at random point.\n",
      "Time taken: 70.1728\n",
      "Function value obtained: 0.0126\n",
      "Current minimum: 0.0123\n",
      "Iteration No: 3 started. Evaluating function at random point.\n",
      "Iteration No: 3 ended. Evaluation done at random point.\n",
      "Time taken: 77.3019\n",
      "Function value obtained: 0.0121\n",
      "Current minimum: 0.0121\n",
      "Iteration No: 4 started. Evaluating function at random point.\n",
      "Iteration No: 4 ended. Evaluation done at random point.\n",
      "Time taken: 74.9247\n",
      "Function value obtained: 0.0122\n",
      "Current minimum: 0.0121\n",
      "Iteration No: 5 started. Evaluating function at random point.\n",
      "Iteration No: 5 ended. Evaluation done at random point.\n",
      "Time taken: 56.9467\n",
      "Function value obtained: 0.0120\n",
      "Current minimum: 0.0120\n",
      "Iteration No: 6 started. Evaluating function at random point.\n",
      "Iteration No: 6 ended. Evaluation done at random point.\n",
      "Time taken: 61.2209\n",
      "Function value obtained: 0.0120\n",
      "Current minimum: 0.0120\n",
      "Iteration No: 7 started. Evaluating function at random point.\n",
      "Iteration No: 7 ended. Evaluation done at random point.\n",
      "Time taken: 59.6303\n",
      "Function value obtained: 0.0120\n",
      "Current minimum: 0.0120\n",
      "Iteration No: 8 started. Evaluating function at random point.\n",
      "Iteration No: 8 ended. Evaluation done at random point.\n",
      "Time taken: 66.9459\n",
      "Function value obtained: 0.0128\n",
      "Current minimum: 0.0120\n",
      "Iteration No: 9 started. Evaluating function at random point.\n",
      "Iteration No: 9 ended. Evaluation done at random point.\n",
      "Time taken: 60.7753\n",
      "Function value obtained: 0.0121\n",
      "Current minimum: 0.0120\n",
      "Iteration No: 10 started. Evaluating function at random point.\n",
      "Iteration No: 10 ended. Evaluation done at random point.\n",
      "Time taken: 53.3015\n",
      "Function value obtained: 0.0120\n",
      "Current minimum: 0.0120\n",
      "Iteration No: 11 started. Searching for the next optimal point.\n",
      "Iteration No: 11 ended. Search finished for the next optimal point.\n",
      "Time taken: 64.0374\n",
      "Function value obtained: 0.0123\n",
      "Current minimum: 0.0120\n",
      "Iteration No: 12 started. Searching for the next optimal point.\n",
      "Iteration No: 12 ended. Search finished for the next optimal point.\n",
      "Time taken: 76.8392\n",
      "Function value obtained: 0.0128\n",
      "Current minimum: 0.0120\n",
      "Iteration No: 13 started. Searching for the next optimal point.\n",
      "Iteration No: 13 ended. Search finished for the next optimal point.\n",
      "Time taken: 67.5016\n",
      "Function value obtained: 0.0123\n",
      "Current minimum: 0.0120\n",
      "Iteration No: 14 started. Searching for the next optimal point.\n",
      "Iteration No: 14 ended. Search finished for the next optimal point.\n",
      "Time taken: 49.6520\n",
      "Function value obtained: 0.0120\n",
      "Current minimum: 0.0120\n",
      "Iteration No: 15 started. Searching for the next optimal point.\n",
      "Iteration No: 15 ended. Search finished for the next optimal point.\n",
      "Time taken: 60.0047\n",
      "Function value obtained: 0.0120\n",
      "Current minimum: 0.0120\n",
      "Iteration No: 16 started. Searching for the next optimal point.\n",
      "Iteration No: 16 ended. Search finished for the next optimal point.\n",
      "Time taken: 67.2763\n",
      "Function value obtained: 0.0121\n",
      "Current minimum: 0.0120\n",
      "Iteration No: 17 started. Searching for the next optimal point.\n",
      "Iteration No: 17 ended. Search finished for the next optimal point.\n",
      "Time taken: 74.1456\n",
      "Function value obtained: 0.0125\n",
      "Current minimum: 0.0120\n",
      "Iteration No: 18 started. Searching for the next optimal point.\n",
      "Iteration No: 18 ended. Search finished for the next optimal point.\n",
      "Time taken: 71.7911\n",
      "Function value obtained: 0.0126\n",
      "Current minimum: 0.0120\n",
      "Iteration No: 19 started. Searching for the next optimal point.\n",
      "Iteration No: 19 ended. Search finished for the next optimal point.\n",
      "Time taken: 52.3381\n",
      "Function value obtained: 0.0120\n",
      "Current minimum: 0.0120\n",
      "Iteration No: 20 started. Searching for the next optimal point.\n",
      "Iteration No: 20 ended. Search finished for the next optimal point.\n",
      "Time taken: 63.6346\n",
      "Function value obtained: 0.0121\n",
      "Current minimum: 0.0120\n",
      "[0.013234595981696545, 1.778615017162708]\n",
      "0.012010900065732194\n",
      "List of X values tried : [[0.07985775569916308, 0.4485261007457112], [0.07818940902700418, 1.2340153000983256], [0.04513744253250554, 0.28995234005420556], [0.046465640304620866, 0.7340463611641416], [0.01514381497427214, 1.3366880986028207], [0.006584746323682927, 1.4717976673069673], [0.0939167181925593, 0.10147965509792722], [0.09922894436983057, 1.2732148682926616], [0.06155366288833982, 0.11342597991746307], [0.0032831800791001606, 1.0970718544909395], [0.040586236199810305, 1.523549028144688], [0.0957459803992729, 1.2881050945504993], [0.07825825181831449, 0.4521451003909468], [0.0029583092685136606, 0.34787958424462206], [0.013234595981696545, 1.778615017162708], [0.047165406167292465, 0.28446646764850725], [0.062257319977528196, 1.3089132893012205], [0.07193595990433804, 1.2946831062137587], [0.0010557931993240854, 1.7487637888337275], [0.024184262239132996, 1.3086153370599194]]\n"
     ]
    }
   ],
   "source": [
    "space = [\n",
    "    (1e-03, 1e-01),\n",
    "    (0.1, 2)\n",
    "]\n",
    "\n",
    "r = gp_minimize(objective, space, n_calls=20, random_state=42, verbose=True)\n",
    "print(r.x)\n",
    "best_params = r.x\n",
    "print(r.fun)\n",
    "result = r.fun\n",
    "print(\"List of X values tried : {}\".format(r.x_iters))"
   ]
  },
  {
   "cell_type": "code",
   "execution_count": 89,
   "id": "5f63c757",
   "metadata": {},
   "outputs": [
    {
     "data": {
      "text/plain": [
       "GaussianProcessRegressor(kernel=Matern(length_scale=0.013, nu=1.78))"
      ]
     },
     "execution_count": 89,
     "metadata": {},
     "output_type": "execute_result"
    }
   ],
   "source": [
    "gpr = GaussianProcessRegressor(kernel = Matern(length_scale= 0.013, nu=1.78 ,length_scale_bounds=\"fixed\"))\n",
    "gpr.fit(X_train, Y_train)"
   ]
  },
  {
   "cell_type": "code",
   "execution_count": 92,
   "id": "16bb6273",
   "metadata": {},
   "outputs": [
    {
     "data": {
      "text/plain": [
       "0.011660136946581617"
      ]
     },
     "execution_count": 92,
     "metadata": {},
     "output_type": "execute_result"
    }
   ],
   "source": [
    "mean_squared_error(Y_test, gpr.predict(X_test), squared=False)"
   ]
  },
  {
   "cell_type": "code",
   "execution_count": 116,
   "id": "1079c32b",
   "metadata": {},
   "outputs": [],
   "source": [
    "def objective(params):\n",
    "    gpr = GaussianProcessRegressor(kernel = RBF(length_scale= params[0],length_scale_bounds=\"fixed\"))\n",
    "    return -np.mean(cross_val_score(gpr, X_train, Y_train, cv=5, n_jobs=-1, scoring='neg_root_mean_squared_error'))"
   ]
  },
  {
   "cell_type": "code",
   "execution_count": 117,
   "id": "adc7b1db",
   "metadata": {},
   "outputs": [
    {
     "name": "stdout",
     "output_type": "stream",
     "text": [
      "Iteration No: 1 started. Evaluating function at random point.\n",
      "Iteration No: 1 ended. Evaluation done at random point.\n",
      "Time taken: 17.5951\n",
      "Function value obtained: 0.0120\n",
      "Current minimum: 0.0120\n",
      "Iteration No: 2 started. Evaluating function at random point.\n",
      "Iteration No: 2 ended. Evaluation done at random point.\n",
      "Time taken: 17.5094\n",
      "Function value obtained: 0.0120\n",
      "Current minimum: 0.0120\n",
      "Iteration No: 3 started. Evaluating function at random point.\n",
      "Iteration No: 3 ended. Evaluation done at random point.\n",
      "Time taken: 23.2671\n",
      "Function value obtained: 0.0120\n",
      "Current minimum: 0.0120\n",
      "Iteration No: 4 started. Evaluating function at random point.\n",
      "Iteration No: 4 ended. Evaluation done at random point.\n",
      "Time taken: 29.2250\n",
      "Function value obtained: 0.0120\n",
      "Current minimum: 0.0120\n",
      "Iteration No: 5 started. Evaluating function at random point.\n",
      "Iteration No: 5 ended. Evaluation done at random point.\n",
      "Time taken: 35.0889\n",
      "Function value obtained: 0.0120\n",
      "Current minimum: 0.0120\n",
      "Iteration No: 6 started. Evaluating function at random point.\n",
      "Iteration No: 6 ended. Evaluation done at random point.\n",
      "Time taken: 31.7689\n",
      "Function value obtained: 0.0120\n",
      "Current minimum: 0.0120\n",
      "Iteration No: 7 started. Evaluating function at random point.\n",
      "Iteration No: 7 ended. Evaluation done at random point.\n",
      "Time taken: 26.4620\n",
      "Function value obtained: 0.0120\n",
      "Current minimum: 0.0120\n",
      "Iteration No: 8 started. Evaluating function at random point.\n",
      "Iteration No: 8 ended. Evaluation done at random point.\n",
      "Time taken: 23.3495\n",
      "Function value obtained: 0.0120\n",
      "Current minimum: 0.0120\n",
      "Iteration No: 9 started. Evaluating function at random point.\n",
      "Iteration No: 9 ended. Evaluation done at random point.\n",
      "Time taken: 22.2045\n",
      "Function value obtained: 0.0120\n",
      "Current minimum: 0.0120\n",
      "Iteration No: 10 started. Evaluating function at random point.\n",
      "Iteration No: 10 ended. Evaluation done at random point.\n",
      "Time taken: 24.1921\n",
      "Function value obtained: 0.0120\n",
      "Current minimum: 0.0120\n",
      "[0.0007985775569916307]\n",
      "0.012012113796794186\n",
      "List of X values tried : [[0.0007985775569916307], [0.00019160044196750217], [0.0007818940902700419], [0.0006008816563670223], [0.0004513744253250554], [0.00010897516665982288], [0.00046465640304620864], [0.0003403715250276317], [0.0001514381497427214], [0.0006543795882193645]]\n"
     ]
    }
   ],
   "source": [
    "space = [\n",
    "    (1e-05, 1e-03)\n",
    "]\n",
    "\n",
    "r = gp_minimize(objective, space, n_calls=10, random_state=42, verbose=True)\n",
    "print(r.x)\n",
    "best_params = r.x\n",
    "print(r.fun)\n",
    "result = r.fun\n",
    "print(\"List of X values tried : {}\".format(r.x_iters))"
   ]
  },
  {
   "cell_type": "code",
   "execution_count": 120,
   "id": "6d15d19e",
   "metadata": {},
   "outputs": [
    {
     "data": {
      "text/plain": [
       "GaussianProcessRegressor(kernel=RBF(length_scale=0.001))"
      ]
     },
     "execution_count": 120,
     "metadata": {},
     "output_type": "execute_result"
    }
   ],
   "source": [
    "gpr = GaussianProcessRegressor(kernel = RBF(length_scale= 0.001, length_scale_bounds=\"fixed\"))\n",
    "gpr.fit(X_train, Y_train)"
   ]
  },
  {
   "cell_type": "code",
   "execution_count": 121,
   "id": "1aecb836",
   "metadata": {},
   "outputs": [
    {
     "data": {
      "text/plain": [
       "0.011692437776164804"
      ]
     },
     "execution_count": 121,
     "metadata": {},
     "output_type": "execute_result"
    }
   ],
   "source": [
    "mean_squared_error(Y_test, gpr.predict(X_test), squared=False)"
   ]
  },
  {
   "cell_type": "markdown",
   "id": "b4e8dec1",
   "metadata": {},
   "source": [
    "## MLP Regressor"
   ]
  },
  {
   "cell_type": "code",
   "execution_count": 93,
   "id": "1c4956d0",
   "metadata": {},
   "outputs": [
    {
     "data": {
      "text/plain": [
       "dict_keys(['activation', 'alpha', 'batch_size', 'beta_1', 'beta_2', 'early_stopping', 'epsilon', 'hidden_layer_sizes', 'learning_rate', 'learning_rate_init', 'max_fun', 'max_iter', 'momentum', 'n_iter_no_change', 'nesterovs_momentum', 'power_t', 'random_state', 'shuffle', 'solver', 'tol', 'validation_fraction', 'verbose', 'warm_start'])"
      ]
     },
     "execution_count": 93,
     "metadata": {},
     "output_type": "execute_result"
    }
   ],
   "source": [
    "mlp = MLPRegressor(random_state=42)\n",
    "#-np.mean(cross_val_score(mlp, X_train, Y_train, cv=5, n_jobs=-1, scoring='neg_root_mean_squared_error'))\n",
    "mlp.get_params().keys()"
   ]
  },
  {
   "cell_type": "code",
   "execution_count": 103,
   "id": "823c0c32",
   "metadata": {},
   "outputs": [
    {
     "data": {
      "text/plain": [
       "GridSearchCV(estimator=MLPRegressor(random_state=42),\n",
       "             param_grid={'hidden_layer_sizes': [(270, 100), (275,), (250, 50)]},\n",
       "             scoring='neg_root_mean_squared_error')"
      ]
     },
     "execution_count": 103,
     "metadata": {},
     "output_type": "execute_result"
    }
   ],
   "source": [
    "parameters = {'hidden_layer_sizes':[(270,100), (275,), (250,50)]}\n",
    "clf = GridSearchCV(mlp, parameters, scoring=\"neg_root_mean_squared_error\")\n",
    "clf.fit(X_train, Y_train)"
   ]
  },
  {
   "cell_type": "code",
   "execution_count": 104,
   "id": "0a9d1965",
   "metadata": {},
   "outputs": [
    {
     "data": {
      "text/plain": [
       "-0.012052747720467718"
      ]
     },
     "execution_count": 104,
     "metadata": {},
     "output_type": "execute_result"
    }
   ],
   "source": [
    "clf.best_score_"
   ]
  },
  {
   "cell_type": "code",
   "execution_count": 105,
   "id": "1c50fb35",
   "metadata": {},
   "outputs": [
    {
     "data": {
      "text/plain": [
       "{'hidden_layer_sizes': (275,)}"
      ]
     },
     "execution_count": 105,
     "metadata": {},
     "output_type": "execute_result"
    }
   ],
   "source": [
    "clf.best_params_"
   ]
  },
  {
   "cell_type": "code",
   "execution_count": 108,
   "id": "a9fc26c0",
   "metadata": {},
   "outputs": [
    {
     "data": {
      "text/plain": [
       "MLPRegressor(hidden_layer_sizes=(275,), random_state=42)"
      ]
     },
     "execution_count": 108,
     "metadata": {},
     "output_type": "execute_result"
    }
   ],
   "source": [
    "mlp = MLPRegressor(hidden_layer_sizes=(275,),random_state=42)\n",
    "mlp.fit(X_train, Y_train)"
   ]
  },
  {
   "cell_type": "code",
   "execution_count": 109,
   "id": "70823336",
   "metadata": {},
   "outputs": [
    {
     "data": {
      "text/plain": [
       "0.011823479475239247"
      ]
     },
     "execution_count": 109,
     "metadata": {},
     "output_type": "execute_result"
    }
   ],
   "source": [
    "mean_squared_error(Y_test, mlp.predict(X_test), squared=False)"
   ]
  },
  {
   "cell_type": "markdown",
   "id": "05a792f1",
   "metadata": {},
   "source": [
    "## Linear Regression"
   ]
  },
  {
   "cell_type": "code",
   "execution_count": 106,
   "id": "8763a80b",
   "metadata": {},
   "outputs": [
    {
     "data": {
      "text/plain": [
       "LinearRegression()"
      ]
     },
     "execution_count": 106,
     "metadata": {},
     "output_type": "execute_result"
    }
   ],
   "source": [
    "lr = LinearRegression()\n",
    "lr.fit(X_train, Y_train)"
   ]
  },
  {
   "cell_type": "code",
   "execution_count": 107,
   "id": "566b95b4",
   "metadata": {},
   "outputs": [
    {
     "data": {
      "text/plain": [
       "0.01175012033972643"
      ]
     },
     "execution_count": 107,
     "metadata": {},
     "output_type": "execute_result"
    }
   ],
   "source": [
    "mean_squared_error(Y_test, lr.predict(X_test), squared=False)"
   ]
  },
  {
   "cell_type": "markdown",
   "id": "35d435e5",
   "metadata": {},
   "source": [
    "## ElasticNet"
   ]
  },
  {
   "cell_type": "code",
   "execution_count": 75,
   "id": "80d88495",
   "metadata": {},
   "outputs": [],
   "source": [
    "def objective(params): \n",
    "    elas = ElasticNet(alpha = params[0], l1_ratio= params[1])\n",
    "    return -np.mean(cross_val_score(elas, X_train, Y_train, cv=5, n_jobs=-1, scoring='neg_root_mean_squared_error'))"
   ]
  },
  {
   "cell_type": "code",
   "execution_count": 76,
   "id": "77bdb555",
   "metadata": {},
   "outputs": [
    {
     "name": "stdout",
     "output_type": "stream",
     "text": [
      "Iteration No: 1 started. Evaluating function at random point.\n",
      "Iteration No: 1 ended. Evaluation done at random point.\n",
      "Time taken: 5.7262\n",
      "Function value obtained: 0.0120\n",
      "Current minimum: 0.0120\n",
      "Iteration No: 2 started. Evaluating function at random point.\n",
      "Iteration No: 2 ended. Evaluation done at random point.\n",
      "Time taken: 1.0290\n",
      "Function value obtained: 0.0120\n",
      "Current minimum: 0.0120\n",
      "Iteration No: 3 started. Evaluating function at random point.\n",
      "Iteration No: 3 ended. Evaluation done at random point.\n",
      "Time taken: 0.1421\n",
      "Function value obtained: 0.0120\n",
      "Current minimum: 0.0120\n",
      "Iteration No: 4 started. Evaluating function at random point.\n",
      "Iteration No: 4 ended. Evaluation done at random point.\n",
      "Time taken: 0.1422\n",
      "Function value obtained: 0.0120\n",
      "Current minimum: 0.0120\n",
      "Iteration No: 5 started. Evaluating function at random point.\n",
      "Iteration No: 5 ended. Evaluation done at random point.\n",
      "Time taken: 0.1395\n",
      "Function value obtained: 0.0120\n",
      "Current minimum: 0.0120\n",
      "Iteration No: 6 started. Evaluating function at random point.\n",
      "Iteration No: 6 ended. Evaluation done at random point.\n",
      "Time taken: 0.1551\n",
      "Function value obtained: 0.0120\n",
      "Current minimum: 0.0120\n",
      "Iteration No: 7 started. Evaluating function at random point.\n",
      "Iteration No: 7 ended. Evaluation done at random point.\n",
      "Time taken: 0.1419\n",
      "Function value obtained: 0.0120\n",
      "Current minimum: 0.0120\n",
      "Iteration No: 8 started. Evaluating function at random point.\n",
      "Iteration No: 8 ended. Evaluation done at random point.\n",
      "Time taken: 0.1405\n",
      "Function value obtained: 0.0120\n",
      "Current minimum: 0.0120\n",
      "Iteration No: 9 started. Evaluating function at random point.\n",
      "Iteration No: 9 ended. Evaluation done at random point.\n",
      "Time taken: 0.1427\n",
      "Function value obtained: 0.0120\n",
      "Current minimum: 0.0120\n",
      "Iteration No: 10 started. Evaluating function at random point.\n",
      "Iteration No: 10 ended. Evaluation done at random point.\n",
      "Time taken: 0.2898\n",
      "Function value obtained: 0.0120\n",
      "Current minimum: 0.0120\n",
      "[0.7965429868602331, 0.18343478986616382]\n",
      "0.012011634782374093\n",
      "List of X values tried : [[0.7965429868602331, 0.18343478986616382], [0.7796910002727695, 0.5968501579464871], [0.44583275285359125, 0.09997491581800291], [0.45924889196586727, 0.3337086111390219], [0.1428668179219408, 0.650888472948853], [0.05641157902710027, 0.7219987722668249], [0.9385527090157504, 0.0007787658410143285], [0.9922115592912177, 0.6174815096277166], [0.611653160488281, 0.007066305219717408], [0.02306242504141576, 0.5247746602583893]]\n"
     ]
    }
   ],
   "source": [
    "space = [\n",
    "    (0.0, 1.0),\n",
    "    (0.0, 1.0)\n",
    "]\n",
    "\n",
    "r = gp_minimize(objective, space, n_calls=10, random_state=42, verbose=True)\n",
    "print(r.x)\n",
    "best_params = r.x\n",
    "print(r.fun)\n",
    "result = r.fun\n",
    "print(\"List of X values tried : {}\".format(r.x_iters))"
   ]
  },
  {
   "cell_type": "code",
   "execution_count": 110,
   "id": "908d8ea8",
   "metadata": {},
   "outputs": [
    {
     "data": {
      "text/plain": [
       "ElasticNet(alpha=0.8, l1_ratio=0.18)"
      ]
     },
     "execution_count": 110,
     "metadata": {},
     "output_type": "execute_result"
    }
   ],
   "source": [
    "elas = ElasticNet(alpha = 0.8, l1_ratio= 0.18)\n",
    "elas.fit(X_train, Y_train)"
   ]
  },
  {
   "cell_type": "code",
   "execution_count": 111,
   "id": "f8386cb2",
   "metadata": {},
   "outputs": [
    {
     "data": {
      "text/plain": [
       "0.011704454941261587"
      ]
     },
     "execution_count": 111,
     "metadata": {},
     "output_type": "execute_result"
    }
   ],
   "source": [
    "mean_squared_error(Y_test, elas.predict(X_test), squared=False)"
   ]
  },
  {
   "cell_type": "markdown",
   "id": "13f86422",
   "metadata": {},
   "source": [
    "## XGB Regressor"
   ]
  },
  {
   "cell_type": "code",
   "execution_count": 81,
   "id": "380c445c",
   "metadata": {},
   "outputs": [],
   "source": [
    "def objective(params): \n",
    "    xgb = XGBRegressor(n_estimators=300, \n",
    "                       tree_method='exact', \n",
    "                       max_depth = params[0],\n",
    "                       learning_rate = params[1],\n",
    "                       n_jobs=-1,\n",
    "                       random_state=42)\n",
    "    return -np.mean(cross_val_score(xgb, X_train, Y_train, cv=5, n_jobs=-1, scoring='neg_root_mean_squared_error'))"
   ]
  },
  {
   "cell_type": "code",
   "execution_count": 82,
   "id": "905e94e5",
   "metadata": {},
   "outputs": [
    {
     "name": "stdout",
     "output_type": "stream",
     "text": [
      "Iteration No: 1 started. Evaluating function at random point.\n",
      "Iteration No: 1 ended. Evaluation done at random point.\n",
      "Time taken: 106.9358\n",
      "Function value obtained: 0.0126\n",
      "Current minimum: 0.0126\n",
      "Iteration No: 2 started. Evaluating function at random point.\n",
      "Iteration No: 2 ended. Evaluation done at random point.\n",
      "Time taken: 71.3274\n",
      "Function value obtained: 0.0125\n",
      "Current minimum: 0.0125\n",
      "Iteration No: 3 started. Evaluating function at random point.\n",
      "Iteration No: 3 ended. Evaluation done at random point.\n",
      "Time taken: 49.5223\n",
      "Function value obtained: 0.0229\n",
      "Current minimum: 0.0125\n",
      "Iteration No: 4 started. Evaluating function at random point.\n",
      "Iteration No: 4 ended. Evaluation done at random point.\n",
      "Time taken: 94.1231\n",
      "Function value obtained: 0.0125\n",
      "Current minimum: 0.0125\n",
      "Iteration No: 5 started. Evaluating function at random point.\n",
      "Iteration No: 5 ended. Evaluation done at random point.\n",
      "Time taken: 49.3532\n",
      "Function value obtained: 0.0124\n",
      "Current minimum: 0.0124\n",
      "Iteration No: 6 started. Evaluating function at random point.\n",
      "Iteration No: 6 ended. Evaluation done at random point.\n",
      "Time taken: 46.8033\n",
      "Function value obtained: 0.0124\n",
      "Current minimum: 0.0124\n",
      "Iteration No: 7 started. Evaluating function at random point.\n",
      "Iteration No: 7 ended. Evaluation done at random point.\n",
      "Time taken: 7.6340\n",
      "Function value obtained: 0.3622\n",
      "Current minimum: 0.0124\n",
      "Iteration No: 8 started. Evaluating function at random point.\n",
      "Iteration No: 8 ended. Evaluation done at random point.\n",
      "Time taken: 62.6553\n",
      "Function value obtained: 0.0125\n",
      "Current minimum: 0.0124\n",
      "Iteration No: 9 started. Evaluating function at random point.\n",
      "Iteration No: 9 ended. Evaluation done at random point.\n",
      "Time taken: 7.6665\n",
      "Function value obtained: 0.3006\n",
      "Current minimum: 0.0124\n",
      "Iteration No: 10 started. Evaluating function at random point.\n",
      "Iteration No: 10 ended. Evaluation done at random point.\n",
      "Time taken: 62.5559\n",
      "Function value obtained: 0.0124\n",
      "Current minimum: 0.0124\n",
      "[11, 0.05295269136558054]\n",
      "0.012387808267306935\n",
      "List of X values tried : [[28, 0.01916004419675022], [27, 0.060088165636702225], [20, 0.01089751666598229], [20, 0.03403715250276317], [13, 0.06543795882193645], [11, 0.07247787845441567], [31, 0.0010770978182604186], [32, 0.06213066945314395], [23, 0.0016995642167520234], [11, 0.05295269136558054]]\n"
     ]
    }
   ],
   "source": [
    "space = [\n",
    "    (10, 16),\n",
    "    (1e-03, 1e-01)\n",
    "]\n",
    "\n",
    "r = gp_minimize(objective, space, n_calls=10, random_state=42, verbose=True)\n",
    "print(r.x)\n",
    "best_params = r.x\n",
    "print(r.fun)\n",
    "result = r.fun\n",
    "print(\"List of X values tried : {}\".format(r.x_iters))"
   ]
  },
  {
   "cell_type": "markdown",
   "id": "cec0dfd3",
   "metadata": {},
   "source": [
    "## Log-Difference"
   ]
  },
  {
   "cell_type": "code",
   "execution_count": 14,
   "id": "bb4a7f59",
   "metadata": {},
   "outputs": [],
   "source": [
    "close_log = np.log(data[\"close\"]).diff(1)\n",
    "close_log.dropna(inplace=True)"
   ]
  },
  {
   "cell_type": "code",
   "execution_count": 15,
   "id": "acbda30d",
   "metadata": {},
   "outputs": [],
   "source": [
    "close_log = close_log.iloc[0:7500]"
   ]
  },
  {
   "cell_type": "code",
   "execution_count": 16,
   "id": "854a1e46",
   "metadata": {},
   "outputs": [],
   "source": [
    "# Create the training set\n",
    "X = []\n",
    "Y = []\n",
    "length = 48\n",
    "for i in range(0,len(close_log)-length):\n",
    "    X.append(close_log.iloc[i:i+length])\n",
    "    Y.append(close_log.iloc[i+length])\n",
    "X_log = np.array(X)\n",
    "Y_log = np.array(Y)  "
   ]
  },
  {
   "cell_type": "code",
   "execution_count": 17,
   "id": "99b5370f",
   "metadata": {},
   "outputs": [],
   "source": [
    "N_test = 48\n",
    "X_train_log, Y_train_log = X_log[:-N_test], Y_log[:-N_test]\n",
    "X_test_log, Y_test_log = X_log[-N_test:], Y_log[-N_test:]"
   ]
  },
  {
   "cell_type": "markdown",
   "id": "d94ed30e",
   "metadata": {},
   "source": [
    "## Naive Forecast"
   ]
  },
  {
   "cell_type": "code",
   "execution_count": 18,
   "id": "f2734b53",
   "metadata": {},
   "outputs": [
    {
     "data": {
      "text/plain": [
       "0.012357958586665899"
      ]
     },
     "execution_count": 18,
     "metadata": {},
     "output_type": "execute_result"
    }
   ],
   "source": [
    "mean_squared_error(Y_train_log, np.zeros(len(Y_train_log)), squared=False)"
   ]
  },
  {
   "cell_type": "code",
   "execution_count": 19,
   "id": "df77679b",
   "metadata": {},
   "outputs": [
    {
     "data": {
      "text/plain": [
       "0.01170634633230302"
      ]
     },
     "execution_count": 19,
     "metadata": {},
     "output_type": "execute_result"
    }
   ],
   "source": [
    "mean_squared_error(Y_test_log, np.zeros(len(Y_test_log)), squared=False)"
   ]
  },
  {
   "cell_type": "markdown",
   "id": "6eb10954",
   "metadata": {},
   "source": [
    "## Gaussian Regressor"
   ]
  },
  {
   "cell_type": "code",
   "execution_count": 20,
   "id": "ebf64740",
   "metadata": {},
   "outputs": [],
   "source": [
    "def objective(params):\n",
    "    gpr = GaussianProcessRegressor(kernel = Matern(length_scale= params[0], nu=params[1] ,length_scale_bounds=\"fixed\"))\n",
    "    return -np.mean(cross_val_score(gpr, X_train_log, Y_train_log, cv=5, n_jobs=4, scoring='neg_root_mean_squared_error'))"
   ]
  },
  {
   "cell_type": "code",
   "execution_count": 22,
   "id": "b724ae31",
   "metadata": {},
   "outputs": [
    {
     "name": "stdout",
     "output_type": "stream",
     "text": [
      "Iteration No: 1 started. Evaluating function at random point.\n",
      "Iteration No: 1 ended. Evaluation done at random point.\n",
      "Time taken: 65.4013\n",
      "Function value obtained: 0.0122\n",
      "Current minimum: 0.0122\n",
      "Iteration No: 2 started. Evaluating function at random point.\n",
      "Iteration No: 2 ended. Evaluation done at random point.\n",
      "Time taken: 114.5297\n",
      "Function value obtained: 0.0126\n",
      "Current minimum: 0.0122\n",
      "Iteration No: 3 started. Evaluating function at random point.\n",
      "Iteration No: 3 ended. Evaluation done at random point.\n",
      "Time taken: 82.1023\n",
      "Function value obtained: 0.0120\n",
      "Current minimum: 0.0120\n",
      "Iteration No: 4 started. Evaluating function at random point.\n",
      "Iteration No: 4 ended. Evaluation done at random point.\n",
      "Time taken: 99.7190\n",
      "Function value obtained: 0.0122\n",
      "Current minimum: 0.0120\n",
      "Iteration No: 5 started. Evaluating function at random point.\n",
      "Iteration No: 5 ended. Evaluation done at random point.\n",
      "Time taken: 82.5702\n",
      "Function value obtained: 0.0120\n",
      "Current minimum: 0.0120\n",
      "Iteration No: 6 started. Evaluating function at random point.\n",
      "Iteration No: 6 ended. Evaluation done at random point.\n",
      "Time taken: 78.8746\n",
      "Function value obtained: 0.0120\n",
      "Current minimum: 0.0120\n",
      "Iteration No: 7 started. Evaluating function at random point.\n",
      "Iteration No: 7 ended. Evaluation done at random point.\n",
      "Time taken: 74.4985\n",
      "Function value obtained: 0.0120\n",
      "Current minimum: 0.0120\n",
      "Iteration No: 8 started. Evaluating function at random point.\n",
      "Iteration No: 8 ended. Evaluation done at random point.\n",
      "Time taken: 94.2746\n",
      "Function value obtained: 0.0127\n",
      "Current minimum: 0.0120\n",
      "Iteration No: 9 started. Evaluating function at random point.\n",
      "Iteration No: 9 ended. Evaluation done at random point.\n",
      "Time taken: 76.0379\n",
      "Function value obtained: 0.0120\n",
      "Current minimum: 0.0120\n",
      "Iteration No: 10 started. Evaluating function at random point.\n",
      "Iteration No: 10 ended. Evaluation done at random point.\n",
      "Time taken: 76.1679\n",
      "Function value obtained: 0.0120\n",
      "Current minimum: 0.0120\n",
      "Iteration No: 11 started. Searching for the next optimal point.\n",
      "Iteration No: 11 ended. Search finished for the next optimal point.\n",
      "Time taken: 81.5517\n",
      "Function value obtained: 0.0123\n",
      "Current minimum: 0.0120\n",
      "Iteration No: 12 started. Searching for the next optimal point.\n",
      "Iteration No: 12 ended. Search finished for the next optimal point.\n",
      "Time taken: 84.8972\n",
      "Function value obtained: 0.0127\n",
      "Current minimum: 0.0120\n",
      "Iteration No: 13 started. Searching for the next optimal point.\n",
      "Iteration No: 13 ended. Search finished for the next optimal point.\n",
      "Time taken: 77.0663\n",
      "Function value obtained: 0.0122\n",
      "Current minimum: 0.0120\n",
      "Iteration No: 14 started. Searching for the next optimal point.\n",
      "Iteration No: 14 ended. Search finished for the next optimal point.\n",
      "Time taken: 72.4505\n",
      "Function value obtained: 0.0120\n",
      "Current minimum: 0.0120\n",
      "Iteration No: 15 started. Searching for the next optimal point.\n",
      "Iteration No: 15 ended. Search finished for the next optimal point.\n",
      "Time taken: 76.7269\n",
      "Function value obtained: 0.0120\n",
      "Current minimum: 0.0120\n",
      "Iteration No: 16 started. Searching for the next optimal point.\n",
      "Iteration No: 16 ended. Search finished for the next optimal point.\n",
      "Time taken: 74.0179\n",
      "Function value obtained: 0.0120\n",
      "Current minimum: 0.0120\n",
      "Iteration No: 17 started. Searching for the next optimal point.\n",
      "Iteration No: 17 ended. Search finished for the next optimal point.\n",
      "Time taken: 91.7275\n",
      "Function value obtained: 0.0125\n",
      "Current minimum: 0.0120\n",
      "Iteration No: 18 started. Searching for the next optimal point.\n",
      "Iteration No: 18 ended. Search finished for the next optimal point.\n",
      "Time taken: 91.8632\n",
      "Function value obtained: 0.0126\n",
      "Current minimum: 0.0120\n",
      "Iteration No: 19 started. Searching for the next optimal point.\n",
      "Iteration No: 19 ended. Search finished for the next optimal point.\n",
      "Time taken: 66.3898\n",
      "Function value obtained: 0.0120\n",
      "Current minimum: 0.0120\n",
      "Iteration No: 20 started. Searching for the next optimal point.\n",
      "Iteration No: 20 ended. Search finished for the next optimal point.\n",
      "Time taken: 82.1511\n",
      "Function value obtained: 0.0121\n",
      "Current minimum: 0.0120\n",
      "[0.09446974381141754, 0.001557531682028657]\n",
      "0.011958521737712462\n",
      "List of X values tried : [[0.08168886881742098, 0.36686957973232764], [0.08017219002454926, 1.1937003158929742], [0.05012494775682322, 0.19994983163600583], [0.051332400276928064, 0.6674172222780438], [0.022858013612974674, 1.301776945897706], [0.015077042112439026, 1.4439975445336497], [0.09446974381141754, 0.001557531682028657], [0.0992990403362096, 1.2349630192554333], [0.0650487844439453, 0.014132610439434815], [0.012075618253727419, 1.0495493205167785], [0.04598748745437301, 1.4984726612049346], [0.09613270945388445, 1.2506369416321044], [0.0802347743802859, 0.37067905304310195], [0.011780281153194237, 0.2609258781522337], [0.021122359983360497, 1.7669631759607451], [0.05196855106117497, 0.19417522910369184], [0.06568847270684382, 1.2725403045276005], [0.07448723627667095, 1.2575611644355353], [0.010050721090294623, 1.735540830351292], [0.031076602035575454, 1.2722266705893888]]\n"
     ]
    }
   ],
   "source": [
    "space = [\n",
    "    (1e-02, 1e-01),\n",
    "    (0.0, 2.0)\n",
    "]\n",
    "\n",
    "r = gp_minimize(objective, space, n_calls=20, random_state=42, verbose=True)\n",
    "print(r.x)\n",
    "best_params = r.x\n",
    "print(r.fun)\n",
    "result = r.fun\n",
    "print(\"List of X values tried : {}\".format(r.x_iters))"
   ]
  },
  {
   "cell_type": "code",
   "execution_count": 23,
   "id": "78fc5146",
   "metadata": {},
   "outputs": [
    {
     "data": {
      "text/plain": [
       "GaussianProcessRegressor(kernel=Matern(length_scale=0.094, nu=0.0016))"
      ]
     },
     "execution_count": 23,
     "metadata": {},
     "output_type": "execute_result"
    }
   ],
   "source": [
    "gpr = GaussianProcessRegressor(kernel = Matern(length_scale= 0.094, nu=0.0016 ,length_scale_bounds=\"fixed\"))\n",
    "gpr.fit(X_train_log, Y_train_log)"
   ]
  },
  {
   "cell_type": "code",
   "execution_count": 25,
   "id": "01343262",
   "metadata": {},
   "outputs": [
    {
     "data": {
      "text/plain": [
       "0.011714716866778855"
      ]
     },
     "execution_count": 25,
     "metadata": {},
     "output_type": "execute_result"
    }
   ],
   "source": [
    "mean_squared_error(Y_test_log, gpr.predict(X_test_log), squared=False)"
   ]
  },
  {
   "cell_type": "markdown",
   "id": "a34faa6a",
   "metadata": {},
   "source": [
    "## Use Moving Averages"
   ]
  },
  {
   "cell_type": "code",
   "execution_count": null,
   "id": "7c9278c6",
   "metadata": {},
   "outputs": [],
   "source": []
  }
 ],
 "metadata": {
  "kernelspec": {
   "display_name": "Python 3 (ipykernel)",
   "language": "python",
   "name": "python3"
  },
  "language_info": {
   "codemirror_mode": {
    "name": "ipython",
    "version": 3
   },
   "file_extension": ".py",
   "mimetype": "text/x-python",
   "name": "python",
   "nbconvert_exporter": "python",
   "pygments_lexer": "ipython3",
   "version": "3.8.5"
  }
 },
 "nbformat": 4,
 "nbformat_minor": 5
}
